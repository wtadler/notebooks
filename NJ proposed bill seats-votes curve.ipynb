{
 "cells": [
  {
   "cell_type": "code",
   "execution_count": 1,
   "metadata": {},
   "outputs": [],
   "source": [
    "import numpy as np\n",
    "import gerrymetrics as g\n",
    "import matplotlib.pyplot as plt\n",
    "%matplotlib inline\n",
    "import seaborn as sns\n",
    "sns.set()\n",
    "%config InlineBackend.figure_format = 'svg'\n",
    "import ipywidgets as wdgt"
   ]
  },
  {
   "cell_type": "code",
   "execution_count": 75,
   "metadata": {
    "scrolled": false
   },
   "outputs": [
    {
     "data": {
      "application/vnd.jupyter.widget-view+json": {
       "model_id": "c48b5331884247dbadc06c3638cfbf3f",
       "version_major": 2,
       "version_minor": 0
      },
      "text/plain": [
       "interactive(children=(FloatSlider(value=0.57, continuous_update=False, description='average 2-party voteshare'…"
      ]
     },
     "metadata": {},
     "output_type": "display_data"
    }
   ],
   "source": [
    "avgcolor = 'forestgreen'\n",
    "\n",
    "def make_plot(avg=.57, comp_prop=.25, comp_range=.05, N=4000):\n",
    "    N_comp = round(N*comp_prop)\n",
    "\n",
    "    comp_votes_hi = np.random.rand(round(N_comp/2))*comp_range + avg\n",
    "    comp_votes_lo = -comp_votes_hi + 2*avg\n",
    "\n",
    "    other_votes_hi = np.random.rand(round((N-N_comp)/2))*(1-avg-comp_range) + avg + comp_range\n",
    "    # other_votes_lo = np.random.rand(round((N-N_comp)/2))*(avg-comp_range)\n",
    "    other_votes_lo = -other_votes_hi + 2*avg\n",
    "\n",
    "    Dvotes = np.concatenate((comp_votes_hi, comp_votes_lo, other_votes_hi, other_votes_lo))\n",
    "\n",
    "    fig, ax = g.plot_seats_votes_curve(Dvotes)\n",
    "    fig.set_size_inches(8, 8)\n",
    "\n",
    "    plt.scatter(.5, N/2, label='PB=0, MM=0')\n",
    "    plt.axvline(avg, label='avg vote', color=avgcolor)\n",
    "    ax.hist(Dvotes, bins=50, label='election histogram', color='mediumpurple')\n",
    "    plt.legend()\n",
    "    plt.ylim([0, N])\n",
    "    plt.xlim([0, 1])\n",
    "\n",
    "\n",
    "layout = wdgt.Layout(width='650px')\n",
    "style = {'description_width': '400px'}\n",
    "\n",
    "avg_widget = wdgt.FloatSlider(value=.57, min=0.0, max=1, step=0.01, description='average 2-party voteshare', continuous_update=False, style=style, layout=layout)\n",
    "avg_widget.style.handle_color = avgcolor\n",
    "N_widget = wdgt.IntSlider(value=4000, min=40, max=10000, step=10, description='# of districts', continuous_update=False, style=style, layout=layout)\n",
    "comp_prop_widget = wdgt.FloatSlider(value=.25, min=0.0, max=1, step=0.01, description='proportion of districts that are competitive', continuous_update=False, style=style, layout=layout)\n",
    "comp_range_widget = wdgt.FloatSlider(value=.05, min=0.0, max=0.4, step=0.01, description='competitiveness is defined as the average ± this:', continuous_update=False, style=style, layout=layout)\n",
    "\n",
    "wdgt.HBox([wdgt.Label('A too long description'), comp_range_widget])\n",
    "\n",
    "\n",
    "interactive_plot = wdgt.interactive(make_plot, avg=avg_widget, N=N_widget, comp_prop=comp_prop_widget, comp_range=comp_range_widget)\n",
    "output = interactive_plot.children[-1]\n",
    "output.layout.height = '700px'\n",
    "interactive_plot"
   ]
  },
  {
   "cell_type": "code",
   "execution_count": null,
   "metadata": {},
   "outputs": [],
   "source": []
  }
 ],
 "metadata": {
  "kernelspec": {
   "display_name": "Python 3",
   "language": "python",
   "name": "python3"
  },
  "language_info": {
   "codemirror_mode": {
    "name": "ipython",
    "version": 3
   },
   "file_extension": ".py",
   "mimetype": "text/x-python",
   "name": "python",
   "nbconvert_exporter": "python",
   "pygments_lexer": "ipython3",
   "version": "3.7.0"
  }
 },
 "nbformat": 4,
 "nbformat_minor": 2
}
