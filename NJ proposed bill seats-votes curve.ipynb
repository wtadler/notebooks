{
 "cells": [
  {
   "cell_type": "markdown",
   "metadata": {},
   "source": [
    "# Analyzing a proposal for NJ districting\n",
    "\n",
    "This notebook provides an interactive plot demonstrating the likely partisan performance of a map drawn according to the rules laid out in [SCR43](https://www.njleg.state.nj.us/2018/Bills/SCR/43_I1.PDF).\n",
    "\n",
    "The relevant text is as follow, with particularly relevant bits bolded:\n",
    "\n",
    ">c. The Commission shall only certify a plan to establish legislative districts that ensures fair representation such that **each of the two major political parties has an equal number of districts more favorable to that party**. A District shall be more favorable to a political party if the percentage of total votes received in that district in all Statewide general elections by that party over the preceding decade of the offices of United States President, United States Senator, and Governor exceeds the percentage of total votes that party received in the average district in the plan, weighting each district equally.\n",
    ">\n",
    ">d. The Commission shall only certify a plan to establish legislative districts that ensures that **at least 25 percent of all districts are competitive districts, which shall mean a district that is more favorable to either major political party by no more than five percentage points of the average district in the plan. For each competitive district in which the percentage of total votes for a major political party exceeds that party’s percentage of total votes in the average district, there shall be a corresponding district in which that party’s percentage of total votes is less than the major party’s percentage of total votes in the average district by approximately the same percentage.**\n",
    "\n",
    "## Hit the \"Run\" button at the top and scroll down to play with the interactive!"
   ]
  },
  {
   "cell_type": "code",
   "execution_count": 132,
   "metadata": {},
   "outputs": [
    {
     "data": {
      "application/vnd.jupyter.widget-view+json": {
       "model_id": "81605039f5fb4978b495aca13c598b60",
       "version_major": 2,
       "version_minor": 0
      },
      "text/plain": [
       "interactive(children=(FloatSlider(value=0.54, continuous_update=False, description='average 2-party voteshare'…"
      ]
     },
     "metadata": {},
     "output_type": "display_data"
    }
   ],
   "source": [
    "import numpy as np\n",
    "import gerrymetrics as g\n",
    "import matplotlib.pyplot as plt\n",
    "%matplotlib inline\n",
    "import seaborn as sns\n",
    "sns.set()\n",
    "%config InlineBackend.figure_format = 'svg'\n",
    "import ipywidgets as wdgt\n",
    "\n",
    "avgcolor = 'forestgreen'\n",
    "curvecolor = 'red'\n",
    "\n",
    "def make_plot(avg=.54, comp_prop=.25, comp_range=.05, N=4000, show_hist=True, use_percents=False):\n",
    "    N_comp = round(N*comp_prop)\n",
    "\n",
    "    comp_votes_hi = np.random.rand(round(N_comp/2))*comp_range + avg\n",
    "    comp_votes_lo = -comp_votes_hi + 2*avg\n",
    "\n",
    "    other_votes_hi = np.random.rand(round((N-N_comp)/2))*(1-avg-comp_range) + avg + comp_range\n",
    "    # other_votes_lo = np.random.rand(round((N-N_comp)/2))*(avg-comp_range)\n",
    "    other_votes_lo = -other_votes_hi + 2*avg\n",
    "\n",
    "    Dvotes = np.concatenate((comp_votes_hi, comp_votes_lo, other_votes_hi, other_votes_lo))\n",
    "\n",
    "    fig, ax = g.plot_seats_votes_curve(Dvotes)\n",
    "    fig.set_size_inches(8, 8)\n",
    "    n_D_seats = sum(Dvotes>.5)\n",
    "    plt.scatter(avg, n_D_seats, marker='o', facecolors='none', linewidth=3, s=200, label='number of seats given an average voteshare', color='forestgreen', zorder=100)\n",
    "    plt.scatter(.5, N/2, label='point at which partisan bias=0 and mean-median=0', color=curvecolor)\n",
    "    plt.axvline(avg, label='average vote', color=avgcolor)\n",
    "    if show_hist:\n",
    "        ax.hist(Dvotes, bins=50, label='election histogram', color='mediumpurple')\n",
    "\n",
    "    plt.legend()\n",
    "    plt.ylim([0, N])\n",
    "    plt.xlim([0, 1])\n",
    "    if use_percents:\n",
    "        ax.set_xticklabels([f'{i:.0f}%' for i in np.linspace(0,100,11)])\n",
    "        ax.set_xlabel('hypothetical Dem vote percentage')\n",
    "        \n",
    "        ax.set_yticks(np.linspace(0,1,11)*N)\n",
    "        ax.set_yticklabels([f'{i:.0f}%' for i in np.linspace(0,100,11)])\n",
    "        ax.set_ylabel('Dem seat percentage')\n",
    "\n",
    "\n",
    "layout = wdgt.Layout(width='650px')\n",
    "style = {'description_width': '400px'}\n",
    "\n",
    "avg_widget = wdgt.FloatSlider(value=.54, min=0.0, max=1, step=0.01, description='average 2-party voteshare', continuous_update=False, style=style, layout=layout)\n",
    "avg_widget.style.handle_color = avgcolor\n",
    "N_widget = wdgt.IntSlider(value=4000, min=40, max=10000, step=10, description='# of districts', continuous_update=False, style=style, layout=layout)\n",
    "comp_prop_widget = wdgt.FloatSlider(value=.25, min=0.0, max=1, step=0.01, description='proportion of districts that are competitive', continuous_update=False, style=style, layout=layout)\n",
    "comp_range_widget = wdgt.FloatSlider(value=.05, min=0.0, max=0.4, step=0.01, description='competitiveness is defined as the average ± this:', continuous_update=False, style=style, layout=layout)\n",
    "hist_widget = wdgt.Checkbox(value=False, description='show vote histogram')\n",
    "perc_widget = wdgt.Checkbox(value=True, description='use percents rather than proportions')\n",
    "\n",
    "interactive_plot = wdgt.interactive(make_plot,\n",
    "                                    avg=avg_widget,\n",
    "                                    N=N_widget,\n",
    "                                    comp_prop=comp_prop_widget,\n",
    "                                    comp_range=comp_range_widget,\n",
    "                                    show_hist=hist_widget,\n",
    "                                    use_percents=perc_widget)\n",
    "output = interactive_plot.children[-1]\n",
    "output.layout.height = '700px'\n",
    "interactive_plot"
   ]
  },
  {
   "cell_type": "markdown",
   "metadata": {},
   "source": [
    "The above plot allows you to play with the parameters of the bill language to see the resulting seats-votes curve, and the percentage of seats that Dems could expect to win given some average voteshare. The default is to use .54, which is the average of the relevant statewide elections since 2012, as we quote from the bill language above.\n",
    "\n",
    "The critical thing to note is that the bill requires that *at least* 25% of all districts are competitive. If you keep the settings above at default, and increase the number of competitive districts, the Democrats gain seats accordingly, assuming that they continue to win above 50% of the vote."
   ]
  }
 ],
 "metadata": {
  "kernelspec": {
   "display_name": "Python 3",
   "language": "python",
   "name": "python3"
  },
  "language_info": {
   "codemirror_mode": {
    "name": "ipython",
    "version": 3
   },
   "file_extension": ".py",
   "mimetype": "text/x-python",
   "name": "python",
   "nbconvert_exporter": "python",
   "pygments_lexer": "ipython3",
   "version": "3.7.0"
  }
 },
 "nbformat": 4,
 "nbformat_minor": 2
}
